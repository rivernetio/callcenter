{
 "cells": [
  {
   "cell_type": "markdown",
   "metadata": {},
   "source": [
    "# 利用已经归一化好的数据对20180105这天数据进行聚类"
   ]
  },
  {
   "cell_type": "code",
   "execution_count": 44,
   "metadata": {},
   "outputs": [],
   "source": [
    "import pandas as pd\n",
    "import matplotlib.pyplot as plt"
   ]
  },
  {
   "cell_type": "markdown",
   "metadata": {},
   "source": [
    "## 读取数据"
   ]
  },
  {
   "cell_type": "code",
   "execution_count": 45,
   "metadata": {},
   "outputs": [],
   "source": [
    "data = pd.read_csv('./20180105_scale.csv')"
   ]
  },
  {
   "cell_type": "markdown",
   "metadata": {},
   "source": [
    "## MiniBatchKMeans聚类"
   ]
  },
  {
   "cell_type": "code",
   "execution_count": 46,
   "metadata": {},
   "outputs": [],
   "source": [
    "from sklearn.cluster import MiniBatchKMeans"
   ]
  },
  {
   "cell_type": "markdown",
   "metadata": {},
   "source": [
    "## 尝试聚为5-20类,文件名以20180105_{聚类个数}.csv命名"
   ]
  },
  {
   "cell_type": "code",
   "execution_count": 47,
   "metadata": {},
   "outputs": [],
   "source": [
    "for cluster_num in range(5, 21):\n",
    "    model = MiniBatchKMeans(n_clusters=cluster_num) \n",
    "    kmeans_data = data.copy()\n",
    "    y_pred = model.fit_predict(kmeans_data)\n",
    "    kmeans_data['label'] = y_pred\n",
    "    kmeans_data.to_csv(index=False, path_or_buf='./20180105_{0}.csv'.format(cluster_num))"
   ]
  },
  {
   "cell_type": "markdown",
   "metadata": {},
   "source": [
    "## 聚为9类， 发现由于未对CALLING_NUM做处理，所以聚类结果受其影响比较大"
   ]
  },
  {
   "cell_type": "code",
   "execution_count": 57,
   "metadata": {},
   "outputs": [],
   "source": [
    "model = MiniBatchKMeans(n_clusters=9) \n",
    "kmeans_data = data.copy()\n",
    "y_pred = model.fit_predict(kmeans_data)"
   ]
  },
  {
   "cell_type": "code",
   "execution_count": 58,
   "metadata": {},
   "outputs": [],
   "source": [
    "kmeans_data['label'] = y_pred"
   ]
  },
  {
   "cell_type": "code",
   "execution_count": 59,
   "metadata": {},
   "outputs": [
    {
     "data": {
      "text/plain": [
       "117749    1.452311e+10\n",
       "117750    1.452691e+10\n",
       "117751    1.470242e+10\n",
       "117752    1.470243e+10\n",
       "117753    1.470246e+10\n",
       "117754    1.470246e+10\n",
       "117755    1.470247e+10\n",
       "117756    1.470247e+10\n",
       "117757    1.470291e+10\n",
       "117758    1.470296e+10\n",
       "117759    1.470322e+10\n",
       "117760    1.470338e+10\n",
       "117761    1.470345e+10\n",
       "117762    1.470346e+10\n",
       "117763    1.470346e+10\n",
       "117764    1.470347e+10\n",
       "117765    1.470348e+10\n",
       "117766    1.470348e+10\n",
       "117767    1.470355e+10\n",
       "117768    1.470355e+10\n",
       "117769    1.470355e+10\n",
       "117770    1.470356e+10\n",
       "117771    1.470356e+10\n",
       "117772    1.470356e+10\n",
       "117773    1.470356e+10\n",
       "117774    1.470357e+10\n",
       "117775    1.470357e+10\n",
       "117776    1.470357e+10\n",
       "117777    1.470403e+10\n",
       "117778    1.470406e+10\n",
       "              ...     \n",
       "179828    1.567280e+10\n",
       "179829    1.567280e+10\n",
       "179830    1.567281e+10\n",
       "179831    1.567281e+10\n",
       "179832    1.567283e+10\n",
       "179833    1.567284e+10\n",
       "179834    1.567284e+10\n",
       "179835    1.567284e+10\n",
       "179836    1.567286e+10\n",
       "179837    1.567287e+10\n",
       "179838    1.567288e+10\n",
       "179839    1.567322e+10\n",
       "179840    1.567357e+10\n",
       "179841    1.567379e+10\n",
       "179842    1.567422e+10\n",
       "179843    1.567445e+10\n",
       "179844    1.567483e+10\n",
       "179845    1.567512e+10\n",
       "179846    1.567552e+10\n",
       "179847    1.567555e+10\n",
       "179848    1.567560e+10\n",
       "179849    1.567571e+10\n",
       "179850    1.567612e+10\n",
       "179851    1.567613e+10\n",
       "179852    1.567675e+10\n",
       "179853    1.567712e+10\n",
       "179854    1.567772e+10\n",
       "179855    1.567776e+10\n",
       "179856    1.567776e+10\n",
       "179857    1.567815e+10\n",
       "Name: CALLING_NUM, Length: 62109, dtype: float64"
      ]
     },
     "execution_count": 59,
     "metadata": {},
     "output_type": "execute_result"
    }
   ],
   "source": [
    "kmeans_data[kmeans_data['label'] == 0]['CALLING_NUM']"
   ]
  },
  {
   "cell_type": "code",
   "execution_count": 60,
   "metadata": {},
   "outputs": [
    {
     "data": {
      "text/plain": [
       "257159    1.836632e+10\n",
       "257160    1.836632e+10\n",
       "257161    1.836632e+10\n",
       "257162    1.836633e+10\n",
       "257163    1.836633e+10\n",
       "257164    1.836633e+10\n",
       "257165    1.836633e+10\n",
       "257166    1.836634e+10\n",
       "257167    1.836634e+10\n",
       "257168    1.836635e+10\n",
       "257169    1.836635e+10\n",
       "257170    1.836635e+10\n",
       "257171    1.836636e+10\n",
       "257172    1.836636e+10\n",
       "257173    1.836636e+10\n",
       "257174    1.836636e+10\n",
       "257175    1.836637e+10\n",
       "257176    1.836637e+10\n",
       "257177    1.836637e+10\n",
       "257178    1.836637e+10\n",
       "257179    1.836638e+10\n",
       "257180    1.836638e+10\n",
       "257181    1.836638e+10\n",
       "257182    1.836639e+10\n",
       "257183    1.836639e+10\n",
       "257184    1.836639e+10\n",
       "257185    1.836639e+10\n",
       "257186    1.836640e+10\n",
       "257187    1.836640e+10\n",
       "257188    1.836641e+10\n",
       "              ...     \n",
       "261685    1.851919e+10\n",
       "261686    1.851922e+10\n",
       "261687    1.851923e+10\n",
       "261688    1.851929e+10\n",
       "261689    1.851931e+10\n",
       "261690    1.851934e+10\n",
       "261691    1.851935e+10\n",
       "261692    1.851936e+10\n",
       "261693    1.851946e+10\n",
       "261694    1.851951e+10\n",
       "261695    1.851964e+10\n",
       "261696    1.851967e+10\n",
       "261697    1.851967e+10\n",
       "261698    1.851969e+10\n",
       "261699    1.851969e+10\n",
       "261700    1.851971e+10\n",
       "261701    1.851971e+10\n",
       "261702    1.851972e+10\n",
       "261703    1.851974e+10\n",
       "261704    1.851976e+10\n",
       "261705    1.851978e+10\n",
       "261706    1.851980e+10\n",
       "261707    1.851983e+10\n",
       "261708    1.851987e+10\n",
       "261709    1.851988e+10\n",
       "261710    1.851989e+10\n",
       "261711    1.851989e+10\n",
       "261712    1.851989e+10\n",
       "261713    1.851996e+10\n",
       "261714    1.852000e+10\n",
       "Name: CALLING_NUM, Length: 4556, dtype: float64"
      ]
     },
     "execution_count": 60,
     "metadata": {},
     "output_type": "execute_result"
    }
   ],
   "source": [
    "kmeans_data[kmeans_data['label'] == 5]['CALLING_NUM']"
   ]
  },
  {
   "cell_type": "code",
   "execution_count": 61,
   "metadata": {},
   "outputs": [
    {
     "data": {
      "text/plain": [
       "296995    1.881770e+10\n",
       "296996    1.881798e+10\n",
       "296997    1.881801e+10\n",
       "296998    1.881818e+10\n",
       "296999    1.881822e+10\n",
       "297000    1.881826e+10\n",
       "297001    1.881850e+10\n",
       "297002    1.881865e+10\n",
       "297003    1.881869e+10\n",
       "297004    1.881880e+10\n",
       "297005    1.881885e+10\n",
       "297006    1.881886e+10\n",
       "297007    1.881889e+10\n",
       "297008    1.881893e+10\n",
       "297009    1.881913e+10\n",
       "297010    1.881922e+10\n",
       "297011    1.881923e+10\n",
       "297012    1.881928e+10\n",
       "297013    1.881931e+10\n",
       "297014    1.881947e+10\n",
       "297015    1.881949e+10\n",
       "297016    1.881981e+10\n",
       "297017    1.881982e+10\n",
       "297018    1.881982e+10\n",
       "297019    1.881982e+10\n",
       "297020    1.882000e+10\n",
       "297021    1.882014e+10\n",
       "297022    1.882022e+10\n",
       "297023    1.882026e+10\n",
       "297024    1.882027e+10\n",
       "              ...     \n",
       "312373    1.999940e+10\n",
       "312374    1.999940e+10\n",
       "312375    1.999946e+10\n",
       "312376    1.999951e+10\n",
       "312377    1.999958e+10\n",
       "312378    1.999959e+10\n",
       "312379    2.020348e+10\n",
       "312380    2.043066e+10\n",
       "312381    2.093209e+10\n",
       "312382    2.101020e+10\n",
       "312383    2.203099e+10\n",
       "312384    2.213440e+10\n",
       "312385    2.245289e+10\n",
       "312386    2.255362e+10\n",
       "312387    2.256587e+10\n",
       "312388    2.296230e+10\n",
       "312389    2.298795e+10\n",
       "312390    2.393430e+10\n",
       "312391    2.396570e+10\n",
       "312392    2.450624e+10\n",
       "312393    2.492169e+10\n",
       "312394    2.570961e+10\n",
       "312395    2.598673e+10\n",
       "312396    2.665847e+10\n",
       "312397    2.720318e+10\n",
       "312398    2.767417e+10\n",
       "312399    2.795099e+10\n",
       "312400    2.826553e+10\n",
       "312401    2.828948e+10\n",
       "312402    2.906279e+10\n",
       "Name: CALLING_NUM, Length: 15408, dtype: float64"
      ]
     },
     "execution_count": 61,
     "metadata": {},
     "output_type": "execute_result"
    }
   ],
   "source": [
    "kmeans_data[kmeans_data['label'] == 8]['CALLING_NUM']"
   ]
  },
  {
   "cell_type": "markdown",
   "metadata": {},
   "source": [
    "### 利用pca降维"
   ]
  },
  {
   "cell_type": "code",
   "execution_count": 6,
   "metadata": {},
   "outputs": [],
   "source": [
    "from sklearn.decomposition import PCA"
   ]
  },
  {
   "cell_type": "code",
   "execution_count": 68,
   "metadata": {},
   "outputs": [
    {
     "data": {
      "text/plain": [
       "(-108447911405.76123, 0.0)"
      ]
     },
     "execution_count": 68,
     "metadata": {},
     "output_type": "execute_result"
    }
   ],
   "source": [
    "pca = PCA()\n",
    "data =pca.fit_transform(kmeans_data)\n",
    "data = pd.DataFrame(data,index=kmeans_data.index)\n",
    "plt.scatter(data[0], data[1], c=y_pred)\n",
    "plt.xlim(data[0].min()-1000, data[0].mean()) #特孤立的点不展示"
   ]
  },
  {
   "cell_type": "code",
   "execution_count": 69,
   "metadata": {},
   "outputs": [
    {
     "data": {
      "image/png": "[encoded data removed]",
      "text/plain": [
       "<matplotlib.figure.Figure at 0x7f35bbae7490>"
      ]
     },
     "metadata": {},
     "output_type": "display_data"
    }
   ],
   "source": [
    "plt.show()"
   ]
  },
  {
   "cell_type": "markdown",
   "metadata": {},
   "source": [
    "## 其他聚类算法尝试"
   ]
  },
  {
   "cell_type": "markdown",
   "metadata": {},
   "source": [
    "AffinityPropagation与Birch对memory要求较高，本地40G不够用"
   ]
  },
  {
   "cell_type": "code",
   "execution_count": 22,
   "metadata": {},
   "outputs": [],
   "source": [
    "from sklearn.cluster import AffinityPropagation"
   ]
  },
  {
   "cell_type": "code",
   "execution_count": 23,
   "metadata": {},
   "outputs": [],
   "source": [
    "model = AffinityPropagation()"
   ]
  },
  {
   "cell_type": "code",
   "execution_count": 24,
   "metadata": {},
   "outputs": [],
   "source": [
    "aff_data = data.copy()"
   ]
  },
  {
   "cell_type": "code",
   "execution_count": 20,
   "metadata": {},
   "outputs": [
    {
     "ename": "MemoryError",
     "evalue": "",
     "output_type": "error",
     "traceback": [
      "\u001b[0;31m\u001b[0m",
      "\u001b[0;31mMemoryError\u001b[0mTraceback (most recent call last)",
      "\u001b[0;32m<ipython-input-20-9d68658df115>\u001b[0m in \u001b[0;36m<module>\u001b[0;34m()\u001b[0m\n\u001b[0;32m----> 1\u001b[0;31m \u001b[0my_pred\u001b[0m \u001b[0;34m=\u001b[0m \u001b[0mmodel\u001b[0m\u001b[0;34m.\u001b[0m\u001b[0mfit_predict\u001b[0m\u001b[0;34m(\u001b[0m\u001b[0maff_data\u001b[0m\u001b[0;34m)\u001b[0m\u001b[0;34m\u001b[0m\u001b[0m\n\u001b[0m",
      "\u001b[0;32m/usr/local/lib/python2.7/dist-packages/sklearn/base.pyc\u001b[0m in \u001b[0;36mfit_predict\u001b[0;34m(self, X, y)\u001b[0m\n\u001b[1;32m    408\u001b[0m         \u001b[0;31m# non-optimized default implementation; override when a better\u001b[0m\u001b[0;34m\u001b[0m\u001b[0;34m\u001b[0m\u001b[0m\n\u001b[1;32m    409\u001b[0m         \u001b[0;31m# method is possible for a given clustering algorithm\u001b[0m\u001b[0;34m\u001b[0m\u001b[0;34m\u001b[0m\u001b[0m\n\u001b[0;32m--> 410\u001b[0;31m         \u001b[0mself\u001b[0m\u001b[0;34m.\u001b[0m\u001b[0mfit\u001b[0m\u001b[0;34m(\u001b[0m\u001b[0mX\u001b[0m\u001b[0;34m)\u001b[0m\u001b[0;34m\u001b[0m\u001b[0m\n\u001b[0m\u001b[1;32m    411\u001b[0m         \u001b[0;32mreturn\u001b[0m \u001b[0mself\u001b[0m\u001b[0;34m.\u001b[0m\u001b[0mlabels_\u001b[0m\u001b[0;34m\u001b[0m\u001b[0m\n\u001b[1;32m    412\u001b[0m \u001b[0;34m\u001b[0m\u001b[0m\n",
      "\u001b[0;32m/usr/local/lib/python2.7/dist-packages/sklearn/cluster/affinity_propagation_.pyc\u001b[0m in \u001b[0;36mfit\u001b[0;34m(self, X, y)\u001b[0m\n\u001b[1;32m    296\u001b[0m             \u001b[0mself\u001b[0m\u001b[0;34m.\u001b[0m\u001b[0maffinity_matrix_\u001b[0m \u001b[0;34m=\u001b[0m \u001b[0mX\u001b[0m\u001b[0;34m\u001b[0m\u001b[0m\n\u001b[1;32m    297\u001b[0m         \u001b[0;32melif\u001b[0m \u001b[0mself\u001b[0m\u001b[0;34m.\u001b[0m\u001b[0maffinity\u001b[0m \u001b[0;34m==\u001b[0m \u001b[0;34m\"euclidean\"\u001b[0m\u001b[0;34m:\u001b[0m\u001b[0;34m\u001b[0m\u001b[0m\n\u001b[0;32m--> 298\u001b[0;31m             \u001b[0mself\u001b[0m\u001b[0;34m.\u001b[0m\u001b[0maffinity_matrix_\u001b[0m \u001b[0;34m=\u001b[0m \u001b[0;34m-\u001b[0m\u001b[0meuclidean_distances\u001b[0m\u001b[0;34m(\u001b[0m\u001b[0mX\u001b[0m\u001b[0;34m,\u001b[0m \u001b[0msquared\u001b[0m\u001b[0;34m=\u001b[0m\u001b[0mTrue\u001b[0m\u001b[0;34m)\u001b[0m\u001b[0;34m\u001b[0m\u001b[0m\n\u001b[0m\u001b[1;32m    299\u001b[0m         \u001b[0;32melse\u001b[0m\u001b[0;34m:\u001b[0m\u001b[0;34m\u001b[0m\u001b[0m\n\u001b[1;32m    300\u001b[0m             raise ValueError(\"Affinity must be 'precomputed' or \"\n",
      "\u001b[0;32m/usr/local/lib/python2.7/dist-packages/sklearn/metrics/pairwise.pyc\u001b[0m in \u001b[0;36meuclidean_distances\u001b[0;34m(X, Y, Y_norm_squared, squared, X_norm_squared)\u001b[0m\n\u001b[1;32m    244\u001b[0m         \u001b[0mYY\u001b[0m \u001b[0;34m=\u001b[0m \u001b[0mrow_norms\u001b[0m\u001b[0;34m(\u001b[0m\u001b[0mY\u001b[0m\u001b[0;34m,\u001b[0m \u001b[0msquared\u001b[0m\u001b[0;34m=\u001b[0m\u001b[0mTrue\u001b[0m\u001b[0;34m)\u001b[0m\u001b[0;34m[\u001b[0m\u001b[0mnp\u001b[0m\u001b[0;34m.\u001b[0m\u001b[0mnewaxis\u001b[0m\u001b[0;34m,\u001b[0m \u001b[0;34m:\u001b[0m\u001b[0;34m]\u001b[0m\u001b[0;34m\u001b[0m\u001b[0m\n\u001b[1;32m    245\u001b[0m \u001b[0;34m\u001b[0m\u001b[0m\n\u001b[0;32m--> 246\u001b[0;31m     \u001b[0mdistances\u001b[0m \u001b[0;34m=\u001b[0m \u001b[0msafe_sparse_dot\u001b[0m\u001b[0;34m(\u001b[0m\u001b[0mX\u001b[0m\u001b[0;34m,\u001b[0m \u001b[0mY\u001b[0m\u001b[0;34m.\u001b[0m\u001b[0mT\u001b[0m\u001b[0;34m,\u001b[0m \u001b[0mdense_output\u001b[0m\u001b[0;34m=\u001b[0m\u001b[0mTrue\u001b[0m\u001b[0;34m)\u001b[0m\u001b[0;34m\u001b[0m\u001b[0m\n\u001b[0m\u001b[1;32m    247\u001b[0m     \u001b[0mdistances\u001b[0m \u001b[0;34m*=\u001b[0m \u001b[0;34m-\u001b[0m\u001b[0;36m2\u001b[0m\u001b[0;34m\u001b[0m\u001b[0m\n\u001b[1;32m    248\u001b[0m     \u001b[0mdistances\u001b[0m \u001b[0;34m+=\u001b[0m \u001b[0mXX\u001b[0m\u001b[0;34m\u001b[0m\u001b[0m\n",
      "\u001b[0;32m/usr/local/lib/python2.7/dist-packages/sklearn/utils/extmath.pyc\u001b[0m in \u001b[0;36msafe_sparse_dot\u001b[0;34m(a, b, dense_output)\u001b[0m\n\u001b[1;32m    138\u001b[0m         \u001b[0;32mreturn\u001b[0m \u001b[0mret\u001b[0m\u001b[0;34m\u001b[0m\u001b[0m\n\u001b[1;32m    139\u001b[0m     \u001b[0;32melse\u001b[0m\u001b[0;34m:\u001b[0m\u001b[0;34m\u001b[0m\u001b[0m\n\u001b[0;32m--> 140\u001b[0;31m         \u001b[0;32mreturn\u001b[0m \u001b[0mnp\u001b[0m\u001b[0;34m.\u001b[0m\u001b[0mdot\u001b[0m\u001b[0;34m(\u001b[0m\u001b[0ma\u001b[0m\u001b[0;34m,\u001b[0m \u001b[0mb\u001b[0m\u001b[0;34m)\u001b[0m\u001b[0;34m\u001b[0m\u001b[0m\n\u001b[0m\u001b[1;32m    141\u001b[0m \u001b[0;34m\u001b[0m\u001b[0m\n\u001b[1;32m    142\u001b[0m \u001b[0;34m\u001b[0m\u001b[0m\n",
      "\u001b[0;31mMemoryError\u001b[0m: "
     ]
    }
   ],
   "source": [
    "y_pred = model.fit_predict(aff_data)"
   ]
  },
  {
   "cell_type": "code",
   "execution_count": null,
   "metadata": {},
   "outputs": [],
   "source": []
  }
 ],
 "metadata": {
  "kernelspec": {
   "display_name": "Python 2",
   "language": "python",
   "name": "python2"
  },
  "language_info": {
   "codemirror_mode": {
    "name": "ipython",
    "version": 2
   },
   "file_extension": ".py",
   "mimetype": "text/x-python",
   "name": "python",
   "nbconvert_exporter": "python",
   "pygments_lexer": "ipython2",
   "version": "2.7.12"
  }
 },
 "nbformat": 4,
 "nbformat_minor": 2
}
