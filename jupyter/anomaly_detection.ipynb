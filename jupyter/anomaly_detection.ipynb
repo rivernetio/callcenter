{
 "cells": [
  {
   "cell_type": "markdown",
   "metadata": {},
   "source": [
    "# 异常检测\n",
    "Weina Ma - January 30, 2018"
   ]
  },
  {
   "cell_type": "code",
   "execution_count": 1,
   "metadata": {},
   "outputs": [
    {
     "data": {
      "text/html": [
       "<div>\n",
       "<style>\n",
       "    .dataframe thead tr:only-child th {\n",
       "        text-align: right;\n",
       "    }\n",
       "\n",
       "    .dataframe thead th {\n",
       "        text-align: left;\n",
       "    }\n",
       "\n",
       "    .dataframe tbody tr th {\n",
       "        vertical-align: top;\n",
       "    }\n",
       "</style>\n",
       "<table border=\"1\" class=\"dataframe\">\n",
       "  <thead>\n",
       "    <tr style=\"text-align: right;\">\n",
       "      <th></th>\n",
       "      <th>CALLING_NUM</th>\n",
       "      <th>MEAN_INTERVAL_CALL</th>\n",
       "      <th>SD_INTERVAL_CALL</th>\n",
       "      <th>NUM_CALL</th>\n",
       "      <th>MEAN_DURATION</th>\n",
       "      <th>MOST_DURATION</th>\n",
       "      <th>MOST_DURATION_NUM</th>\n",
       "      <th>SD_DURATION</th>\n",
       "      <th>TOTAL_DURATION</th>\n",
       "      <th>TRK_NUM</th>\n",
       "    </tr>\n",
       "  </thead>\n",
       "  <tbody>\n",
       "    <tr>\n",
       "      <th>0</th>\n",
       "      <td>2195511</td>\n",
       "      <td>2</td>\n",
       "      <td>0</td>\n",
       "      <td>3</td>\n",
       "      <td>66</td>\n",
       "      <td>66</td>\n",
       "      <td>1</td>\n",
       "      <td>33</td>\n",
       "      <td>192</td>\n",
       "      <td>1</td>\n",
       "    </tr>\n",
       "    <tr>\n",
       "      <th>1</th>\n",
       "      <td>2195516</td>\n",
       "      <td>24</td>\n",
       "      <td>18</td>\n",
       "      <td>3</td>\n",
       "      <td>252</td>\n",
       "      <td>216</td>\n",
       "      <td>1</td>\n",
       "      <td>99</td>\n",
       "      <td>870</td>\n",
       "      <td>2</td>\n",
       "    </tr>\n",
       "    <tr>\n",
       "      <th>2</th>\n",
       "      <td>2410016</td>\n",
       "      <td>1440</td>\n",
       "      <td>0</td>\n",
       "      <td>1</td>\n",
       "      <td>6</td>\n",
       "      <td>6</td>\n",
       "      <td>1</td>\n",
       "      <td>0</td>\n",
       "      <td>6</td>\n",
       "      <td>1</td>\n",
       "    </tr>\n",
       "    <tr>\n",
       "      <th>3</th>\n",
       "      <td>4699417</td>\n",
       "      <td>3</td>\n",
       "      <td>0</td>\n",
       "      <td>2</td>\n",
       "      <td>90</td>\n",
       "      <td>42</td>\n",
       "      <td>1</td>\n",
       "      <td>68</td>\n",
       "      <td>180</td>\n",
       "      <td>1</td>\n",
       "    </tr>\n",
       "    <tr>\n",
       "      <th>4</th>\n",
       "      <td>5006013</td>\n",
       "      <td>5</td>\n",
       "      <td>0</td>\n",
       "      <td>2</td>\n",
       "      <td>63</td>\n",
       "      <td>42</td>\n",
       "      <td>1</td>\n",
       "      <td>30</td>\n",
       "      <td>126</td>\n",
       "      <td>1</td>\n",
       "    </tr>\n",
       "  </tbody>\n",
       "</table>\n",
       "</div>"
      ],
      "text/plain": [
       "   CALLING_NUM  MEAN_INTERVAL_CALL  SD_INTERVAL_CALL  NUM_CALL  MEAN_DURATION  \\\n",
       "0      2195511                   2                 0         3             66   \n",
       "1      2195516                  24                18         3            252   \n",
       "2      2410016                1440                 0         1              6   \n",
       "3      4699417                   3                 0         2             90   \n",
       "4      5006013                   5                 0         2             63   \n",
       "\n",
       "   MOST_DURATION  MOST_DURATION_NUM  SD_DURATION  TOTAL_DURATION  TRK_NUM  \n",
       "0             66                  1           33             192        1  \n",
       "1            216                  1           99             870        2  \n",
       "2              6                  1            0               6        1  \n",
       "3             42                  1           68             180        1  \n",
       "4             42                  1           30             126        1  "
      ]
     },
     "execution_count": 1,
     "metadata": {},
     "output_type": "execute_result"
    }
   ],
   "source": [
    "import pandas as pd\n",
    "import seaborn as sns\n",
    "import matplotlib as plt\n",
    "import numpy as np\n",
    "import missingno as msno\n",
    "%matplotlib inline\n",
    "pd.set_option('display.max_rows',None)\n",
    "pd.options.display.float_format = '{:.0f}'.format\n",
    "\n",
    "df=pd.read_csv('/vagrant/gong_hang/callcenter/data/20180105_result.csv',encoding='gbk')\n",
    "#df.drop([\"CALLING_NUM\"], axis=1, inplace=True)\n",
    "df.head()"
   ]
  },
  {
   "cell_type": "code",
   "execution_count": 2,
   "metadata": {},
   "outputs": [
    {
     "name": "stdout",
     "output_type": "stream",
     "text": [
      "(316827, 10)\n"
     ]
    },
    {
     "data": {
      "text/html": [
       "<div>\n",
       "<style>\n",
       "    .dataframe thead tr:only-child th {\n",
       "        text-align: right;\n",
       "    }\n",
       "\n",
       "    .dataframe thead th {\n",
       "        text-align: left;\n",
       "    }\n",
       "\n",
       "    .dataframe tbody tr th {\n",
       "        vertical-align: top;\n",
       "    }\n",
       "</style>\n",
       "<table border=\"1\" class=\"dataframe\">\n",
       "  <thead>\n",
       "    <tr style=\"text-align: right;\">\n",
       "      <th></th>\n",
       "      <th>CALLING_NUM</th>\n",
       "      <th>MEAN_INTERVAL_CALL</th>\n",
       "      <th>SD_INTERVAL_CALL</th>\n",
       "      <th>NUM_CALL</th>\n",
       "      <th>MEAN_DURATION</th>\n",
       "      <th>MOST_DURATION</th>\n",
       "      <th>MOST_DURATION_NUM</th>\n",
       "      <th>SD_DURATION</th>\n",
       "      <th>TOTAL_DURATION</th>\n",
       "      <th>TRK_NUM</th>\n",
       "    </tr>\n",
       "  </thead>\n",
       "  <tbody>\n",
       "    <tr>\n",
       "      <th>count</th>\n",
       "      <td>316827</td>\n",
       "      <td>316827</td>\n",
       "      <td>316827</td>\n",
       "      <td>316827</td>\n",
       "      <td>316827</td>\n",
       "      <td>316827</td>\n",
       "      <td>316827</td>\n",
       "      <td>316827</td>\n",
       "      <td>316827</td>\n",
       "      <td>316827</td>\n",
       "    </tr>\n",
       "    <tr>\n",
       "      <th>mean</th>\n",
       "      <td>108450105917</td>\n",
       "      <td>999</td>\n",
       "      <td>5</td>\n",
       "      <td>2</td>\n",
       "      <td>140</td>\n",
       "      <td>143</td>\n",
       "      <td>1</td>\n",
       "      <td>25</td>\n",
       "      <td>213</td>\n",
       "      <td>1</td>\n",
       "    </tr>\n",
       "    <tr>\n",
       "      <th>std</th>\n",
       "      <td>4486480603148</td>\n",
       "      <td>649</td>\n",
       "      <td>31</td>\n",
       "      <td>1</td>\n",
       "      <td>126</td>\n",
       "      <td>136</td>\n",
       "      <td>0</td>\n",
       "      <td>61</td>\n",
       "      <td>233</td>\n",
       "      <td>0</td>\n",
       "    </tr>\n",
       "    <tr>\n",
       "      <th>min</th>\n",
       "      <td>2195511</td>\n",
       "      <td>0</td>\n",
       "      <td>0</td>\n",
       "      <td>1</td>\n",
       "      <td>0</td>\n",
       "      <td>0</td>\n",
       "      <td>1</td>\n",
       "      <td>0</td>\n",
       "      <td>0</td>\n",
       "      <td>1</td>\n",
       "    </tr>\n",
       "    <tr>\n",
       "      <th>25%</th>\n",
       "      <td>13766566220</td>\n",
       "      <td>40</td>\n",
       "      <td>0</td>\n",
       "      <td>1</td>\n",
       "      <td>60</td>\n",
       "      <td>54</td>\n",
       "      <td>1</td>\n",
       "      <td>0</td>\n",
       "      <td>72</td>\n",
       "      <td>1</td>\n",
       "    </tr>\n",
       "    <tr>\n",
       "      <th>50%</th>\n",
       "      <td>15333446615</td>\n",
       "      <td>1440</td>\n",
       "      <td>0</td>\n",
       "      <td>1</td>\n",
       "      <td>96</td>\n",
       "      <td>90</td>\n",
       "      <td>1</td>\n",
       "      <td>0</td>\n",
       "      <td>144</td>\n",
       "      <td>1</td>\n",
       "    </tr>\n",
       "    <tr>\n",
       "      <th>75%</th>\n",
       "      <td>18116004669</td>\n",
       "      <td>1440</td>\n",
       "      <td>0</td>\n",
       "      <td>2</td>\n",
       "      <td>192</td>\n",
       "      <td>198</td>\n",
       "      <td>1</td>\n",
       "      <td>15</td>\n",
       "      <td>282</td>\n",
       "      <td>1</td>\n",
       "    </tr>\n",
       "    <tr>\n",
       "      <th>max</th>\n",
       "      <td>930037165318000</td>\n",
       "      <td>1440</td>\n",
       "      <td>688</td>\n",
       "      <td>117</td>\n",
       "      <td>5703</td>\n",
       "      <td>5556</td>\n",
       "      <td>104</td>\n",
       "      <td>3750</td>\n",
       "      <td>13128</td>\n",
       "      <td>13</td>\n",
       "    </tr>\n",
       "  </tbody>\n",
       "</table>\n",
       "</div>"
      ],
      "text/plain": [
       "          CALLING_NUM  MEAN_INTERVAL_CALL  SD_INTERVAL_CALL  NUM_CALL  \\\n",
       "count          316827              316827            316827    316827   \n",
       "mean     108450105917                 999                 5         2   \n",
       "std     4486480603148                 649                31         1   \n",
       "min           2195511                   0                 0         1   \n",
       "25%       13766566220                  40                 0         1   \n",
       "50%       15333446615                1440                 0         1   \n",
       "75%       18116004669                1440                 0         2   \n",
       "max   930037165318000                1440               688       117   \n",
       "\n",
       "       MEAN_DURATION  MOST_DURATION  MOST_DURATION_NUM  SD_DURATION  \\\n",
       "count         316827         316827             316827       316827   \n",
       "mean             140            143                  1           25   \n",
       "std              126            136                  0           61   \n",
       "min                0              0                  1            0   \n",
       "25%               60             54                  1            0   \n",
       "50%               96             90                  1            0   \n",
       "75%              192            198                  1           15   \n",
       "max             5703           5556                104         3750   \n",
       "\n",
       "       TOTAL_DURATION  TRK_NUM  \n",
       "count          316827   316827  \n",
       "mean              213        1  \n",
       "std               233        0  \n",
       "min                 0        1  \n",
       "25%                72        1  \n",
       "50%               144        1  \n",
       "75%               282        1  \n",
       "max             13128       13  "
      ]
     },
     "execution_count": 2,
     "metadata": {},
     "output_type": "execute_result"
    }
   ],
   "source": [
    "print df.shape\n",
    "df.describe()"
   ]
  },
  {
   "cell_type": "markdown",
   "metadata": {},
   "source": [
    "## 1. 基于统计和数据分布的检测算法\n",
    "如果某个值距离分布的均值超过一定范围，那么这个值就可以被简单的标记为一个异常点（outlier）\n",
    "* 电话拨打次数（利用原始分布）\n",
    "* 平均时长（利用函数变换后分布）"
   ]
  },
  {
   "cell_type": "code",
   "execution_count": 3,
   "metadata": {},
   "outputs": [
    {
     "data": {
      "text/plain": [
       "(4813, 10)"
      ]
     },
     "execution_count": 3,
     "metadata": {},
     "output_type": "execute_result"
    }
   ],
   "source": [
    "num_call_outlier = 5\n",
    "df_1 = df[df['NUM_CALL'] > num_call_outlier]\n",
    "df_1.shape"
   ]
  },
  {
   "cell_type": "markdown",
   "metadata": {},
   "source": [
    "### 原始分布"
   ]
  },
  {
   "cell_type": "code",
   "execution_count": 4,
   "metadata": {},
   "outputs": [
    {
     "data": {
      "image/png": "[encoded data removed]",
      "text/plain": [
       "<matplotlib.figure.Figure at 0x7f8cefb86210>"
      ]
     },
     "metadata": {},
     "output_type": "display_data"
    }
   ],
   "source": [
    "plt.pyplot.figure(figsize=(16,4))\n",
    "ax = sns.distplot(df['MEAN_DURATION']);\n",
    "ax.set_xticklabels(ax.get_xticklabels(), rotation=40, ha=\"right\")\n",
    "plt.pyplot.tight_layout()\n",
    "plt.pyplot.show()"
   ]
  },
  {
   "cell_type": "markdown",
   "metadata": {},
   "source": [
    "### 函数变换后分布"
   ]
  },
  {
   "cell_type": "code",
   "execution_count": 5,
   "metadata": {},
   "outputs": [
    {
     "data": {
      "image/png": "[encoded data removed]",
      "text/plain": [
       "<matplotlib.figure.Figure at 0x7f8d1c52ec50>"
      ]
     },
     "metadata": {},
     "output_type": "display_data"
    }
   ],
   "source": [
    "df['LOG_MEAN_DURATION'] = np.power(df['MEAN_DURATION'], 0.15)\n",
    "#df['LOG_MEAN_DURATION'] = np.log(1+df['MEAN_DURATION'])\n",
    "\n",
    "plt.pyplot.figure(figsize=(16,4))\n",
    "ax = sns.distplot(df['LOG_MEAN_DURATION']);\n",
    "ax.set_xticklabels(ax.get_xticklabels(), rotation=40, ha=\"right\")\n",
    "plt.pyplot.tight_layout()\n",
    "plt.pyplot.show()"
   ]
  },
  {
   "cell_type": "code",
   "execution_count": 7,
   "metadata": {},
   "outputs": [
    {
     "name": "stdout",
     "output_type": "stream",
     "text": [
      "1.98453908343\n",
      "0.367695082274\n"
     ]
    }
   ],
   "source": [
    "print df['LOG_MEAN_DURATION'].mean()\n",
    "print df['LOG_MEAN_DURATION'].std()"
   ]
  },
  {
   "cell_type": "code",
   "execution_count": 8,
   "metadata": {},
   "outputs": [
    {
     "data": {
      "text/plain": [
       "(6068, 11)"
      ]
     },
     "execution_count": 8,
     "metadata": {},
     "output_type": "execute_result"
    }
   ],
   "source": [
    "df_1 = df[(df['LOG_MEAN_DURATION'] > 3.09) | (df['LOG_MEAN_DURATION'] < 0.89) ]\n",
    "df_1.shape"
   ]
  },
  {
   "cell_type": "markdown",
   "metadata": {},
   "source": [
    "## 2. 基于距离/密度发现异常点\n",
    "* 局部异常因子算法\n",
    "https://github.com/damjankuznar/pylof"
   ]
  },
  {
   "cell_type": "code",
   "execution_count": 9,
   "metadata": {},
   "outputs": [
    {
     "name": "stdout",
     "output_type": "stream",
     "text": [
      "3.60726677482 (2.5255547062686707, -0.8270822932013109)\n",
      "3.22558527979 (2.5255547062686707, 1.2678862773419233)\n",
      "2.10602889174 (1.0499358415377105, -0.017662618218697787)\n",
      "2.02840130518 (1.0499358415377105, 0.886982900879517)\n",
      "1.99505022347 (1.7877452739031907, 0.6013053685327123)\n",
      "1.99232689946 (1.0499358415377105, 0.8393699788217163)\n",
      "1.94954750966 (1.0499358415377105, 1.7440154979199307)\n",
      "1.92928750602 (-0.4256830231932506, 6.5529206257578085)\n",
      "1.65413182832 (-0.4256830231932506, 3.4580806920007587)\n",
      "1.6248639801 (0.31212640917222995, 3.267629003769556)\n",
      "1.54091743405 (1.0499358415377105, -0.2557272285077017)\n",
      "1.28706004366 (-0.4256830231932506, 3.934209912578767)\n",
      "1.23158237754 (-0.4256830231932506, 5.3625975743127885)\n",
      "1.19616487475 (1.0499358415377105, -0.398565994681104)\n",
      "1.17554694533 (-0.4256830231932506, 3.838984068463165)\n",
      "1.17554694533 (-0.4256830231932506, 3.838984068463165)\n",
      "1.09481433983 (-0.4256830231932506, 5.1245329640237856)\n",
      "1.08483770556 (0.31212640917222995, 2.767693322162648)\n",
      "1.07646199343 (-0.4256830231932506, 2.886725627307149)\n",
      "1.05804421022 (-0.4256830231932506, 0.7917570567639154)\n",
      "1.02581521739 (-0.4256830231932506, -0.2557272285077017)\n",
      "1.0205799652 (-0.4256830231932506, 0.17278907001250532)\n",
      "1.0205799652 (-0.4256830231932506, 0.17278907001250532)\n",
      "1.01880808861 (-0.4256830231932506, 0.12517614795470455)\n",
      "1.01880808861 (-0.4256830231932506, 0.12517614795470455)\n",
      "1.01880808861 (-0.4256830231932506, 0.12517614795470455)\n",
      "1.01340965054 (-0.4256830231932506, -1.065146903490315)\n",
      "1.01340965054 (-0.4256830231932506, -1.065146903490315)\n",
      "1.01340965054 (-0.4256830231932506, -1.065146903490315)\n"
     ]
    }
   ],
   "source": [
    "import numpy as np\n",
    "import matplotlib.pyplot as plt\n",
    "from sklearn.neighbors import LocalOutlierFactor\n",
    "from lof import LOF\n",
    "from lof import outliers\n",
    "\n",
    "data=pd.read_csv('/vagrant/gong_hang/callcenter/data/20180105_scale.csv',encoding='gbk')\n",
    "XXX = data[['NUM_CALL', 'MEAN_DURATION']]\n",
    "XX = XXX.head(200)\n",
    "X=np.array(np.rec.fromrecords(XX.values))\n",
    "\n",
    "#lof = LOF(X)\n",
    "lof = outliers(5, X)\n",
    "for outlier in lof:\n",
    "    print outlier[\"lof\"],outlier[\"instance\"]"
   ]
  },
  {
   "cell_type": "code",
   "execution_count": 10,
   "metadata": {},
   "outputs": [
    {
     "data": {
      "image/png": "[encoded data removed]",
      "text/plain": [
       "<matplotlib.figure.Figure at 0x7f8ce5d2efd0>"
      ]
     },
     "metadata": {},
     "output_type": "display_data"
    }
   ],
   "source": [
    "from matplotlib import pyplot as p\n",
    "\n",
    "x,y = zip(*X)\n",
    "p.figure(figsize=(16,4))\n",
    "p.scatter(x,y, 20, color=\"#0000FF\")\n",
    "\n",
    "for outlier in lof:\n",
    "    value = outlier[\"lof\"]\n",
    "    instance = outlier[\"instance\"]\n",
    "    color = \"#FF0000\" if value > 1 else \"#00FF00\"\n",
    "    p.scatter(instance[0], instance[1], color=color, s=(value-1)**2*10+20)\n",
    "\n",
    "p.show()"
   ]
  },
  {
   "cell_type": "markdown",
   "metadata": {},
   "source": [
    "## 3. 基于划分思想\n",
    "* 孤立层林\n",
    "\n",
    "假设我们用一个随机超平面来切割（split）数据空间（data space）, 切一次可以生成两个子空间（想象拿刀切蛋糕一分为二）。之后我们再继续用一个随机超平面来切割每个子空间，循环下去，直到每子空间里面只有一个数据点为止。直观上来讲，我们可以发现那些密度很高的簇是可以被切很多次才会停止切割，但是那些密度很低的点很容易很早的就停到一个子空间了。"
   ]
  },
  {
   "cell_type": "code",
   "execution_count": null,
   "metadata": {
    "collapsed": true
   },
   "outputs": [],
   "source": []
  }
 ],
 "metadata": {
  "kernelspec": {
   "display_name": "Python 2",
   "language": "python",
   "name": "python2"
  },
  "language_info": {
   "codemirror_mode": {
    "name": "ipython",
    "version": 2
   },
   "file_extension": ".py",
   "mimetype": "text/x-python",
   "name": "python",
   "nbconvert_exporter": "python",
   "pygments_lexer": "ipython2",
   "version": "2.7.14"
  }
 },
 "nbformat": 4,
 "nbformat_minor": 2
}
