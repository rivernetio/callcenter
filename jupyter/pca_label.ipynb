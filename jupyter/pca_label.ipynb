{
 "cells": [
  {
   "cell_type": "markdown",
   "metadata": {},
   "source": [
    "# 根据人工发现的规律去查找合适的聚类数目"
   ]
  },
  {
   "cell_type": "markdown",
   "metadata": {},
   "source": [
    "## 根据人工经验找到有问题号码"
   ]
  },
  {
   "cell_type": "code",
   "execution_count": 1,
   "metadata": {},
   "outputs": [],
   "source": [
    "from sklearn.preprocessing import scale\n",
    "import pandas as pd\n",
    "import numpy as np"
   ]
  },
  {
   "cell_type": "code",
   "execution_count": 36,
   "metadata": {},
   "outputs": [
    {
     "data": {
      "text/plain": [
       "(316827, 10)"
      ]
     },
     "execution_count": 36,
     "metadata": {},
     "output_type": "execute_result"
    }
   ],
   "source": [
    "pd.options.display.float_format = '{:.0f}'.format\n",
    "pd.set_option('display.max_columns',100)\n",
    "df=pd.read_csv('../data/20180105_result.csv',encoding='gbk')\n",
    "df.shape"
   ]
  },
  {
   "cell_type": "code",
   "execution_count": 37,
   "metadata": {},
   "outputs": [],
   "source": [
    "df[\"TAG\"] = 0\n",
    "def test(x):\n",
    "    if x[\"NUM_CALL\"] >= 10:   # 总拨打次数大于20\n",
    "        x[\"TAG\"] = 1    #   125条\n",
    "    elif x[\"NUM_CALL\"] >= 4 and x[\"MOST_DURATION\"] <= 6 and x[\"MOST_DURATION_NUM\"] >= 3:\n",
    "        #   总拨打次数大于等于4  通话某个时长数最多的数等于6或0   通话时长数最多的次数大于等于3\n",
    "        #        5    970\n",
    "        #        4    986\n",
    "        x[\"TAG\"] = 1    #   262条\n",
    "    return x\n",
    "df1 = df.apply(test, axis=1)"
   ]
  },
  {
   "cell_type": "markdown",
   "metadata": {},
   "source": [
    "筛选出有问题号码"
   ]
  },
  {
   "cell_type": "code",
   "execution_count": 40,
   "metadata": {},
   "outputs": [],
   "source": [
    "err_num = df1[df1['TAG'] == 1]['CALLING_NUM']"
   ]
  },
  {
   "cell_type": "code",
   "execution_count": 45,
   "metadata": {},
   "outputs": [],
   "source": [
    "err_num = err_num.tolist()"
   ]
  },
  {
   "cell_type": "code",
   "execution_count": 73,
   "metadata": {},
   "outputs": [],
   "source": [
    "total = len(err_num)"
   ]
  },
  {
   "cell_type": "markdown",
   "metadata": {},
   "source": [
    "## 定义比对函数方便后续使用, 百分比在70%-100%之间的聚类就归为好的聚类"
   ]
  },
  {
   "cell_type": "code",
   "execution_count": 223,
   "metadata": {},
   "outputs": [],
   "source": [
    "def compare_label(err_num, cluster_num, loop_num):\n",
    "    bad_num = 0\n",
    "    bad_percent_list = []\n",
    "    for i in range(loop_num):\n",
    "        hint = 0\n",
    "        item_calling_num = cluster_num[cluster_num['label'] ==  i]['CALLING_NUM']\n",
    "        item_calling_num_size = item_calling_num.size\n",
    "        if not item_calling_num_size:\n",
    "            continue\n",
    "        for calling_num in item_calling_num:\n",
    "            if calling_num in err_num:\n",
    "                hint += 1\n",
    "        if hint / float(item_calling_num_size) > 0.7:\n",
    "            bad_num += hint\n",
    "        # print(\"------------cluster:{0}, bad_num:{1}, bad_percent:{2}, total:{3}----------\".format(i, hint,  hint / float(item_calling_num_size), item_calling_num_size))\n",
    "    print('bad_percent is : {0}'.format(bad_num / float(total))) #>70%的算在聚类成功"
   ]
  },
  {
   "cell_type": "code",
   "execution_count": 224,
   "metadata": {},
   "outputs": [],
   "source": [
    "from sklearn.cluster import KMeans"
   ]
  },
  {
   "cell_type": "code",
   "execution_count": 225,
   "metadata": {},
   "outputs": [],
   "source": [
    "from sklearn.cluster import MiniBatchKMeans"
   ]
  },
  {
   "cell_type": "code",
   "execution_count": 392,
   "metadata": {},
   "outputs": [],
   "source": [
    "def cluster_kmeans(data, fit_data):\n",
    "    for i in range(70, 105, 5):\n",
    "        print('------------------------------cluster:{0}-----------------------'.format(i))\n",
    "        # model = MiniBatchKMeans(n_clusters=i, init='k-means++') # 指定聚类数目i\n",
    "        model = KMeans(n_clusters=i, init='k-means++', n_init=30, n_jobs=100) # 指定聚类数目i\n",
    "        y_pred = model.fit_predict(pca_data)\n",
    "        cluster_data = data.copy()\n",
    "        cluster_data['label'] = y_pred\n",
    "        compare_label(err_num, cluster_data, i)"
   ]
  },
  {
   "cell_type": "markdown",
   "metadata": {},
   "source": [
    "# 各种数据处理后用k-means聚类 <br\\>\n",
    "<div style=\"font-size:20px\"> 结合来看，比较好的分类为75类<br\\>\n",
    "    而且即使最好的分类，每一类中可疑号码占所属类的70%以上的总<br\\>\n",
    "    的可疑号码占根据规律发现的总的可疑号码也只能达到50%而已。\n",
    "\n",
    "</div> "
   ]
  },
  {
   "cell_type": "markdown",
   "metadata": {},
   "source": [
    "* <div style=\"font-size:24px\"> 利用pca降维后再聚类</div> "
   ]
  },
  {
   "cell_type": "code",
   "execution_count": 393,
   "metadata": {},
   "outputs": [],
   "source": [
    "from sklearn.decomposition import PCA"
   ]
  },
  {
   "cell_type": "code",
   "execution_count": 394,
   "metadata": {},
   "outputs": [],
   "source": [
    "pca = PCA(n_components=3) # 指定降维到多少"
   ]
  },
  {
   "cell_type": "code",
   "execution_count": 395,
   "metadata": {},
   "outputs": [],
   "source": [
    "data = pd.read_csv(\"../data/20180105_scale.csv\")"
   ]
  },
  {
   "cell_type": "code",
   "execution_count": 396,
   "metadata": {},
   "outputs": [],
   "source": [
    "pca_data = data.copy()"
   ]
  },
  {
   "cell_type": "markdown",
   "metadata": {},
   "source": [
    "去除电话号码"
   ]
  },
  {
   "cell_type": "code",
   "execution_count": 397,
   "metadata": {},
   "outputs": [],
   "source": [
    "calling_num = pca_data.pop('CALLING_NUM')"
   ]
  },
  {
   "cell_type": "markdown",
   "metadata": {},
   "source": [
    "查看降维后的分布"
   ]
  },
  {
   "cell_type": "code",
   "execution_count": 398,
   "metadata": {},
   "outputs": [
    {
     "data": {
      "text/plain": [
       "PCA(copy=True, iterated_power='auto', n_components=3, random_state=None,\n",
       "  svd_solver='auto', tol=0.0, whiten=False)"
      ]
     },
     "execution_count": 398,
     "metadata": {},
     "output_type": "execute_result"
    }
   ],
   "source": [
    "pca.fit(pca_data)"
   ]
  },
  {
   "cell_type": "code",
   "execution_count": 399,
   "metadata": {},
   "outputs": [
    {
     "data": {
      "text/plain": [
       "array([ 0.35580874,  0.25856489,  0.12593122])"
      ]
     },
     "execution_count": 399,
     "metadata": {},
     "output_type": "execute_result"
    }
   ],
   "source": [
    "pca.explained_variance_ratio_"
   ]
  },
  {
   "cell_type": "code",
   "execution_count": 400,
   "metadata": {},
   "outputs": [
    {
     "data": {
      "text/plain": [
       "array([ 3.20228875,  2.32709134,  1.13338455])"
      ]
     },
     "execution_count": 400,
     "metadata": {},
     "output_type": "execute_result"
    }
   ],
   "source": [
    "pca.explained_variance_"
   ]
  },
  {
   "cell_type": "code",
   "execution_count": 401,
   "metadata": {},
   "outputs": [],
   "source": [
    "pca_data = pca.transform(pca_data)"
   ]
  },
  {
   "cell_type": "code",
   "execution_count": 425,
   "metadata": {
    "scrolled": false
   },
   "outputs": [
    {
     "name": "stdout",
     "output_type": "stream",
     "text": [
      "------------------------------cluster:70-----------------------\n",
      "bad_percent is : 0.507099391481\n",
      "------------------------------cluster:75-----------------------\n",
      "bad_percent is : 0.507099391481\n",
      "------------------------------cluster:80-----------------------\n",
      "bad_percent is : 0.312373225152\n",
      "------------------------------cluster:85-----------------------\n",
      "bad_percent is : 0.233265720081\n",
      "------------------------------cluster:90-----------------------\n",
      "bad_percent is : 0.424949290061\n",
      "------------------------------cluster:95-----------------------\n",
      "bad_percent is : 0.446247464503\n",
      "------------------------------cluster:100-----------------------\n",
      "bad_percent is : 0.384381338742\n"
     ]
    }
   ],
   "source": [
    "cluster_kmeans(data, pca_data)"
   ]
  },
  {
   "cell_type": "markdown",
   "metadata": {},
   "source": [
    "* <div style=\"font-size:24px\">不用PCA降维</div> "
   ]
  },
  {
   "cell_type": "code",
   "execution_count": 426,
   "metadata": {},
   "outputs": [],
   "source": [
    "normal_data = data.copy()"
   ]
  },
  {
   "cell_type": "code",
   "execution_count": 427,
   "metadata": {},
   "outputs": [],
   "source": [
    "calling_num = normal_data.pop('CALLING_NUM')"
   ]
  },
  {
   "cell_type": "code",
   "execution_count": 428,
   "metadata": {},
   "outputs": [
    {
     "name": "stdout",
     "output_type": "stream",
     "text": [
      "------------------------------cluster:70-----------------------\n",
      "bad_percent is : 0.276876267748\n",
      "------------------------------cluster:75-----------------------\n",
      "bad_percent is : 0.338742393509\n",
      "------------------------------cluster:80-----------------------\n",
      "bad_percent is : 0.460446247465\n",
      "------------------------------cluster:85-----------------------\n",
      "bad_percent is : 0.463488843813\n",
      "------------------------------cluster:90-----------------------\n",
      "bad_percent is : 0.430020283976\n",
      "------------------------------cluster:95-----------------------\n",
      "bad_percent is : 0.415821501014\n",
      "------------------------------cluster:100-----------------------\n",
      "bad_percent is : 0.337728194726\n"
     ]
    }
   ],
   "source": [
    "cluster_kmeans(data, normal_data)"
   ]
  },
  {
   "cell_type": "markdown",
   "metadata": {},
   "source": [
    "* <div style=\"font-size:24px\">利用原始数据（../data/20180105_result.csv）数据标准化后在聚类</div> "
   ]
  },
  {
   "cell_type": "code",
   "execution_count": 429,
   "metadata": {},
   "outputs": [],
   "source": [
    "result_data = pd.read_csv(\"../data/20180105_result.csv\")"
   ]
  },
  {
   "cell_type": "code",
   "execution_count": 430,
   "metadata": {},
   "outputs": [],
   "source": [
    "result_data2 = result_data.copy()"
   ]
  },
  {
   "cell_type": "code",
   "execution_count": 431,
   "metadata": {},
   "outputs": [],
   "source": [
    "calling_num = result_data2.pop('CALLING_NUM')"
   ]
  },
  {
   "cell_type": "code",
   "execution_count": 432,
   "metadata": {},
   "outputs": [],
   "source": [
    "data_zs = 1.0 * (result_data2 - result_data2.mean()) / result_data2.std() #数据标准化"
   ]
  },
  {
   "cell_type": "code",
   "execution_count": 433,
   "metadata": {},
   "outputs": [
    {
     "name": "stdout",
     "output_type": "stream",
     "text": [
      "------------------------------cluster:70-----------------------\n",
      "bad_percent is : 0.393509127789\n",
      "------------------------------cluster:75-----------------------\n",
      "bad_percent is : 0.430020283976\n",
      "------------------------------cluster:80-----------------------\n",
      "bad_percent is : 0.347870182556\n",
      "------------------------------cluster:85-----------------------\n",
      "bad_percent is : 0.401622718053\n",
      "------------------------------cluster:90-----------------------\n",
      "bad_percent is : 0.447261663286\n",
      "------------------------------cluster:95-----------------------\n",
      "bad_percent is : 0.393509127789\n",
      "------------------------------cluster:100-----------------------\n",
      "bad_percent is : 0.222109533469\n"
     ]
    }
   ],
   "source": [
    "cluster_kmeans(result_data, data_zs)"
   ]
  },
  {
   "cell_type": "markdown",
   "metadata": {},
   "source": [
    "* <div style=\"font-size:24px\">利用原始数据（../data/20180105_result.csv）聚类</div> "
   ]
  },
  {
   "cell_type": "code",
   "execution_count": 434,
   "metadata": {},
   "outputs": [],
   "source": [
    "result_data3 = result_data.copy()"
   ]
  },
  {
   "cell_type": "code",
   "execution_count": 435,
   "metadata": {},
   "outputs": [],
   "source": [
    "calling_num = result_data3.pop('CALLING_NUM')"
   ]
  },
  {
   "cell_type": "code",
   "execution_count": 436,
   "metadata": {
    "scrolled": true
   },
   "outputs": [
    {
     "name": "stdout",
     "output_type": "stream",
     "text": [
      "------------------------------cluster:70-----------------------\n",
      "bad_percent is : 0.378296146045\n",
      "------------------------------cluster:75-----------------------\n",
      "bad_percent is : 0.465517241379\n",
      "------------------------------cluster:80-----------------------\n",
      "bad_percent is : 0.367139959432\n",
      "------------------------------cluster:85-----------------------\n",
      "bad_percent is : 0.429006085193\n",
      "------------------------------cluster:90-----------------------\n",
      "bad_percent is : 0.463488843813\n",
      "------------------------------cluster:95-----------------------\n",
      "bad_percent is : 0.409736308316\n",
      "------------------------------cluster:100-----------------------\n",
      "bad_percent is : 0.321501014199\n"
     ]
    }
   ],
   "source": [
    "cluster_kmeans(result_data, result_data3)"
   ]
  },
  {
   "cell_type": "markdown",
   "metadata": {},
   "source": [
    "* <div style=\"font-size:24px\">利用原始数据（../data/20180105_result.csv）包含电话号码聚类</div> "
   ]
  },
  {
   "cell_type": "code",
   "execution_count": 437,
   "metadata": {},
   "outputs": [],
   "source": [
    "result_data4 = result_data.copy()"
   ]
  },
  {
   "cell_type": "code",
   "execution_count": 438,
   "metadata": {},
   "outputs": [
    {
     "name": "stdout",
     "output_type": "stream",
     "text": [
      "------------------------------cluster:70-----------------------\n",
      "bad_percent is : 0.313387423935\n",
      "------------------------------cluster:75-----------------------\n",
      "bad_percent is : 0.409736308316\n",
      "------------------------------cluster:80-----------------------\n",
      "bad_percent is : 0.364097363083\n",
      "------------------------------cluster:85-----------------------\n",
      "bad_percent is : 0.502028397566\n",
      "------------------------------cluster:90-----------------------\n",
      "bad_percent is : 0.227180527383\n",
      "------------------------------cluster:95-----------------------\n",
      "bad_percent is : 0.431034482759\n",
      "------------------------------cluster:100-----------------------\n",
      "bad_percent is : 0.43509127789\n"
     ]
    }
   ],
   "source": [
    "cluster_kmeans(result_data, result_data4)"
   ]
  },
  {
   "cell_type": "markdown",
   "metadata": {},
   "source": [
    "* <div style=\"font-size:24px\">利用原始数据（../data/20180105_result.csv）PCA降维，包含电话号码聚类</div> "
   ]
  },
  {
   "cell_type": "code",
   "execution_count": 439,
   "metadata": {},
   "outputs": [],
   "source": [
    "result_data5 = result_data.copy()"
   ]
  },
  {
   "cell_type": "code",
   "execution_count": 440,
   "metadata": {},
   "outputs": [],
   "source": [
    "from sklearn.preprocessing import StandardScaler"
   ]
  },
  {
   "cell_type": "code",
   "execution_count": 441,
   "metadata": {},
   "outputs": [],
   "source": [
    "result_data5 = StandardScaler().fit_transform(result_data5)"
   ]
  },
  {
   "cell_type": "code",
   "execution_count": 442,
   "metadata": {},
   "outputs": [],
   "source": [
    "pca = PCA(n_components=3) # 指定降维到多少"
   ]
  },
  {
   "cell_type": "code",
   "execution_count": 443,
   "metadata": {},
   "outputs": [
    {
     "data": {
      "text/plain": [
       "PCA(copy=True, iterated_power='auto', n_components=3, random_state=None,\n",
       "  svd_solver='auto', tol=0.0, whiten=False)"
      ]
     },
     "execution_count": 443,
     "metadata": {},
     "output_type": "execute_result"
    }
   ],
   "source": [
    "pca.fit(result_data5)"
   ]
  },
  {
   "cell_type": "code",
   "execution_count": 444,
   "metadata": {},
   "outputs": [
    {
     "data": {
      "text/plain": [
       "array([ 0.32025342,  0.23271692,  0.1133381 ])"
      ]
     },
     "execution_count": 444,
     "metadata": {},
     "output_type": "execute_result"
    }
   ],
   "source": [
    "pca.explained_variance_ratio_"
   ]
  },
  {
   "cell_type": "code",
   "execution_count": 445,
   "metadata": {},
   "outputs": [
    {
     "data": {
      "text/plain": [
       "array([ 3.20254428,  2.32717654,  1.13338462])"
      ]
     },
     "execution_count": 445,
     "metadata": {},
     "output_type": "execute_result"
    }
   ],
   "source": [
    "pca.explained_variance_"
   ]
  },
  {
   "cell_type": "code",
   "execution_count": 446,
   "metadata": {},
   "outputs": [],
   "source": [
    "pca_data2 = pca.transform(result_data5)"
   ]
  },
  {
   "cell_type": "code",
   "execution_count": 447,
   "metadata": {
    "scrolled": true
   },
   "outputs": [
    {
     "name": "stdout",
     "output_type": "stream",
     "text": [
      "------------------------------cluster:70-----------------------\n",
      "bad_percent is : 0.352941176471\n",
      "------------------------------cluster:75-----------------------\n",
      "bad_percent is : 0.424949290061\n",
      "------------------------------cluster:80-----------------------\n",
      "bad_percent is : 0.419878296146\n",
      "------------------------------cluster:85-----------------------\n",
      "bad_percent is : 0.358012170385\n",
      "------------------------------cluster:90-----------------------\n",
      "bad_percent is : 0.407707910751\n",
      "------------------------------cluster:95-----------------------\n",
      "bad_percent is : 0.470588235294\n",
      "------------------------------cluster:100-----------------------\n",
      "bad_percent is : 0.44523326572\n"
     ]
    }
   ],
   "source": [
    "cluster_kmeans(result_data, pca_data2)"
   ]
  },
  {
   "cell_type": "code",
   "execution_count": null,
   "metadata": {},
   "outputs": [],
   "source": []
  },
  {
   "cell_type": "code",
   "execution_count": null,
   "metadata": {},
   "outputs": [],
   "source": []
  }
 ],
 "metadata": {
  "kernelspec": {
   "display_name": "Python 2",
   "language": "python",
   "name": "python2"
  },
  "language_info": {
   "codemirror_mode": {
    "name": "ipython",
    "version": 2
   },
   "file_extension": ".py",
   "mimetype": "text/x-python",
   "name": "python",
   "nbconvert_exporter": "python",
   "pygments_lexer": "ipython2",
   "version": "2.7.12"
  }
 },
 "nbformat": 4,
 "nbformat_minor": 2
}
