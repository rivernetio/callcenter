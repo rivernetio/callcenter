{
 "cells": [
  {
   "cell_type": "code",
   "execution_count": 1,
   "metadata": {},
   "outputs": [
    {
     "data": {
      "text/plain": [
       "(316827, 10)"
      ]
     },
     "execution_count": 1,
     "metadata": {},
     "output_type": "execute_result"
    }
   ],
   "source": [
    "from sklearn.preprocessing import scale\n",
    "import pandas as pd\n",
    "import numpy as np\n",
    "\n",
    "pd.options.display.float_format = '{:.0f}'.format\n",
    "pd.set_option('display.max_columns',100)\n",
    "df=pd.read_csv('C:/Users/lenovo/Desktop/ai/callcenter-master/data/20180105_result.csv',encoding='gbk')\n",
    "# 列出前五行\n",
    "df.shape"
   ]
  },
  {
   "cell_type": "code",
   "execution_count": 2,
   "metadata": {},
   "outputs": [],
   "source": [
    "df[\"TAG\"] = 0\n",
    "def test(x):\n",
    "    if x[\"NUM_CALL\"] >= 10:   # 总拨打次数大于20\n",
    "        x[\"TAG\"] = 1    #   125条\n",
    "    elif x[\"NUM_CALL\"] >= 4 and x[\"MOST_DURATION\"] <= 6 and x[\"MOST_DURATION_NUM\"] >= 3:\n",
    "        #   总拨打次数大于等于4  通话某个时长数最多的数等于6或0   通话时长数最多的次数大于等于3\n",
    "        #        5    970\n",
    "        #        4    986\n",
    "        x[\"TAG\"] = 1    #   262条\n",
    "    return x\n",
    "df1 = df.apply(test,axis=1)"
   ]
  },
  {
   "cell_type": "code",
   "execution_count": null,
   "metadata": {},
   "outputs": [],
   "source": [
    ""
   ]
  }
 ],
 "metadata": {
  "kernelspec": {
   "display_name": "Python 2",
   "language": "python",
   "name": "python2"
  },
  "language_info": {
   "codemirror_mode": {
    "name": "ipython",
    "version": 2.0
   },
   "file_extension": ".py",
   "mimetype": "text/x-python",
   "name": "python",
   "nbconvert_exporter": "python",
   "pygments_lexer": "ipython2",
   "version": "2.7.10"
  }
 },
 "nbformat": 4,
 "nbformat_minor": 0
}