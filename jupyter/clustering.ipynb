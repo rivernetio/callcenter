{
 "cells": [
  {
   "cell_type": "markdown",
   "metadata": {},
   "source": [
    "# 利用已经归一化好的数据对20180105这天数据进行聚类"
   ]
  },
  {
   "cell_type": "code",
   "execution_count": 2,
   "metadata": {},
   "outputs": [],
   "source": [
    "import pandas as pd\n",
    "import matplotlib.pyplot as plt"
   ]
  },
  {
   "cell_type": "markdown",
   "metadata": {},
   "source": [
    "## 读取数据"
   ]
  },
  {
   "cell_type": "code",
   "execution_count": 3,
   "metadata": {},
   "outputs": [],
   "source": [
    "data = pd.read_csv('./20180105_scale.csv')"
   ]
  },
  {
   "cell_type": "markdown",
   "metadata": {},
   "source": [
    "## MiniBatchKMeans聚类"
   ]
  },
  {
   "cell_type": "code",
   "execution_count": 4,
   "metadata": {},
   "outputs": [],
   "source": [
    "from sklearn.cluster import MiniBatchKMeans\n",
    "from sklearn.externals import joblib"
   ]
  },
  {
   "cell_type": "markdown",
   "metadata": {},
   "source": [
    "## 尝试聚为5-20类并保存模型,文件名以20180105_{聚类个数}.csv命名"
   ]
  },
  {
   "cell_type": "code",
   "execution_count": 5,
   "metadata": {},
   "outputs": [],
   "source": [
    "for cluster_num in range(5, 21):\n",
    "    model = MiniBatchKMeans(n_clusters=cluster_num) \n",
    "    kmeans_data = data.copy()\n",
    "    y_pred = model.fit_predict(kmeans_data)\n",
    "    kmeans_data['label'] = y_pred\n",
    "    kmeans_data.to_csv(index=False, path_or_buf='./20180105_{0}.csv'.format(cluster_num))\n",
    "    joblib.dump(model,'20180105_{0}.pkl'.format(cluster_num))"
   ]
  },
  {
   "cell_type": "markdown",
   "metadata": {},
   "source": [
    "## 聚为9类， 发现由于未对CALLING_NUM做处理，所以聚类结果受其影响比较大"
   ]
  },
  {
   "cell_type": "code",
   "execution_count": 6,
   "metadata": {},
   "outputs": [],
   "source": [
    "model = MiniBatchKMeans(n_clusters=9) \n",
    "kmeans_data = data.copy()\n",
    "y_pred = model.fit_predict(kmeans_data)"
   ]
  },
  {
   "cell_type": "code",
   "execution_count": 7,
   "metadata": {},
   "outputs": [],
   "source": [
    "kmeans_data['label'] = y_pred"
   ]
  },
  {
   "cell_type": "code",
   "execution_count": 8,
   "metadata": {},
   "outputs": [
    {
     "data": {
      "text/plain": [
       "260176    1.850192e+10\n",
       "260177    1.850192e+10\n",
       "260178    1.850196e+10\n",
       "260179    1.850196e+10\n",
       "260180    1.850197e+10\n",
       "260181    1.850199e+10\n",
       "260182    1.850213e+10\n",
       "260183    1.850213e+10\n",
       "260184    1.850216e+10\n",
       "260185    1.850217e+10\n",
       "260186    1.850217e+10\n",
       "260187    1.850217e+10\n",
       "260188    1.850217e+10\n",
       "260189    1.850217e+10\n",
       "260190    1.850220e+10\n",
       "260191    1.850220e+10\n",
       "260192    1.850221e+10\n",
       "260193    1.850221e+10\n",
       "260194    1.850221e+10\n",
       "260195    1.850221e+10\n",
       "260196    1.850221e+10\n",
       "260197    1.850221e+10\n",
       "260198    1.850221e+10\n",
       "260199    1.850221e+10\n",
       "260200    1.850221e+10\n",
       "260201    1.850221e+10\n",
       "260202    1.850222e+10\n",
       "260203    1.850222e+10\n",
       "260204    1.850222e+10\n",
       "260205    1.850222e+10\n",
       "              ...     \n",
       "312375    1.999946e+10\n",
       "312376    1.999951e+10\n",
       "312377    1.999958e+10\n",
       "312378    1.999959e+10\n",
       "312379    2.020348e+10\n",
       "312380    2.043066e+10\n",
       "312381    2.093209e+10\n",
       "312382    2.101020e+10\n",
       "312383    2.203099e+10\n",
       "312384    2.213440e+10\n",
       "312385    2.245289e+10\n",
       "312386    2.255362e+10\n",
       "312387    2.256587e+10\n",
       "312388    2.296230e+10\n",
       "312389    2.298795e+10\n",
       "312390    2.393430e+10\n",
       "312391    2.396570e+10\n",
       "312392    2.450624e+10\n",
       "312393    2.492169e+10\n",
       "312394    2.570961e+10\n",
       "312395    2.598673e+10\n",
       "312396    2.665847e+10\n",
       "312397    2.720318e+10\n",
       "312398    2.767417e+10\n",
       "312399    2.795099e+10\n",
       "312400    2.826553e+10\n",
       "312401    2.828948e+10\n",
       "312402    2.906279e+10\n",
       "312403    2.945255e+10\n",
       "312404    2.994861e+10\n",
       "Name: CALLING_NUM, Length: 52229, dtype: float64"
      ]
     },
     "execution_count": 8,
     "metadata": {},
     "output_type": "execute_result"
    }
   ],
   "source": [
    "kmeans_data[kmeans_data['label'] == 0]['CALLING_NUM']"
   ]
  },
  {
   "cell_type": "code",
   "execution_count": 9,
   "metadata": {},
   "outputs": [
    {
     "data": {
      "text/plain": [
       "117749    1.452311e+10\n",
       "117750    1.452691e+10\n",
       "117751    1.470242e+10\n",
       "117752    1.470243e+10\n",
       "117753    1.470246e+10\n",
       "117754    1.470246e+10\n",
       "117755    1.470247e+10\n",
       "117756    1.470247e+10\n",
       "117757    1.470291e+10\n",
       "117758    1.470296e+10\n",
       "117759    1.470322e+10\n",
       "117760    1.470338e+10\n",
       "117761    1.470345e+10\n",
       "117762    1.470346e+10\n",
       "117763    1.470346e+10\n",
       "117764    1.470347e+10\n",
       "117765    1.470348e+10\n",
       "117766    1.470348e+10\n",
       "117767    1.470355e+10\n",
       "117768    1.470355e+10\n",
       "117769    1.470355e+10\n",
       "117770    1.470356e+10\n",
       "117771    1.470356e+10\n",
       "117772    1.470356e+10\n",
       "117773    1.470356e+10\n",
       "117774    1.470357e+10\n",
       "117775    1.470357e+10\n",
       "117776    1.470357e+10\n",
       "117777    1.470403e+10\n",
       "117778    1.470406e+10\n",
       "              ...     \n",
       "209367    1.599958e+10\n",
       "209368    1.599966e+10\n",
       "209369    1.599968e+10\n",
       "209370    1.599976e+10\n",
       "209371    1.599986e+10\n",
       "209372    1.599990e+10\n",
       "209373    1.599997e+10\n",
       "209374    1.604228e+10\n",
       "209375    1.604539e+10\n",
       "209376    1.604636e+10\n",
       "209377    1.604902e+10\n",
       "209378    1.609357e+10\n",
       "209379    1.613233e+10\n",
       "209380    1.626237e+10\n",
       "209381    1.626275e+10\n",
       "209382    1.626314e+10\n",
       "209383    1.626342e+10\n",
       "209384    1.626366e+10\n",
       "209385    1.626479e+10\n",
       "209386    1.626709e+10\n",
       "209387    1.626888e+10\n",
       "209388    1.646745e+10\n",
       "209389    1.647467e+10\n",
       "209390    1.647569e+10\n",
       "209391    1.647641e+10\n",
       "209392    1.647727e+10\n",
       "209393    1.647770e+10\n",
       "209394    1.647826e+10\n",
       "209395    1.647965e+10\n",
       "209396    1.650293e+10\n",
       "Name: CALLING_NUM, Length: 91648, dtype: float64"
      ]
     },
     "execution_count": 9,
     "metadata": {},
     "output_type": "execute_result"
    }
   ],
   "source": [
    "kmeans_data[kmeans_data['label'] == 5]['CALLING_NUM']"
   ]
  },
  {
   "cell_type": "code",
   "execution_count": 10,
   "metadata": {},
   "outputs": [
    {
     "data": {
      "text/plain": [
       "209397    1.700123e+10\n",
       "209398    1.700202e+10\n",
       "209399    1.700290e+10\n",
       "209400    1.700297e+10\n",
       "209401    1.700353e+10\n",
       "209402    1.700372e+10\n",
       "209403    1.700372e+10\n",
       "209404    1.700399e+10\n",
       "209405    1.700411e+10\n",
       "209406    1.700411e+10\n",
       "209407    1.700423e+10\n",
       "209408    1.700430e+10\n",
       "209409    1.700437e+10\n",
       "209410    1.700437e+10\n",
       "209411    1.700548e+10\n",
       "209412    1.700569e+10\n",
       "209413    1.700643e+10\n",
       "209414    1.700663e+10\n",
       "209415    1.700726e+10\n",
       "209416    1.700790e+10\n",
       "209417    1.700926e+10\n",
       "209418    1.700927e+10\n",
       "209419    1.701024e+10\n",
       "209420    1.701032e+10\n",
       "209421    1.701118e+10\n",
       "209422    1.701208e+10\n",
       "209423    1.701337e+10\n",
       "209424    1.701413e+10\n",
       "209425    1.701414e+10\n",
       "209426    1.701995e+10\n",
       "              ...     \n",
       "229280    1.788155e+10\n",
       "229281    1.788155e+10\n",
       "229282    1.788155e+10\n",
       "229283    1.788155e+10\n",
       "229284    1.788155e+10\n",
       "229285    1.788155e+10\n",
       "229286    1.788155e+10\n",
       "229287    1.788155e+10\n",
       "229288    1.788157e+10\n",
       "229289    1.788627e+10\n",
       "229290    1.788808e+10\n",
       "229291    1.788808e+10\n",
       "229292    1.788919e+10\n",
       "229293    1.788919e+10\n",
       "229294    1.788919e+10\n",
       "229295    1.788920e+10\n",
       "229296    1.788920e+10\n",
       "229297    1.788920e+10\n",
       "229298    1.788920e+10\n",
       "229299    1.788920e+10\n",
       "229300    1.788982e+10\n",
       "229301    1.788982e+10\n",
       "229302    1.788990e+10\n",
       "229303    1.788998e+10\n",
       "229304    1.789534e+10\n",
       "229305    1.789673e+10\n",
       "229306    1.789673e+10\n",
       "229307    1.789807e+10\n",
       "229308    1.789913e+10\n",
       "229309    1.789924e+10\n",
       "Name: CALLING_NUM, Length: 19913, dtype: float64"
      ]
     },
     "execution_count": 10,
     "metadata": {},
     "output_type": "execute_result"
    }
   ],
   "source": [
    "kmeans_data[kmeans_data['label'] == 8]['CALLING_NUM']"
   ]
  },
  {
   "cell_type": "markdown",
   "metadata": {},
   "source": [
    "### 利用pca降维"
   ]
  },
  {
   "cell_type": "code",
   "execution_count": 11,
   "metadata": {},
   "outputs": [],
   "source": [
    "from sklearn.decomposition import PCA"
   ]
  },
  {
   "cell_type": "code",
   "execution_count": 12,
   "metadata": {},
   "outputs": [
    {
     "data": {
      "text/plain": [
       "(-108447911405.76123, 0.0)"
      ]
     },
     "execution_count": 12,
     "metadata": {},
     "output_type": "execute_result"
    }
   ],
   "source": [
    "pca = PCA()\n",
    "data =pca.fit_transform(kmeans_data)\n",
    "data = pd.DataFrame(data,index=kmeans_data.index)\n",
    "plt.scatter(data[0], data[1], c=y_pred)\n",
    "plt.xlim(data[0].min()-1000, data[0].mean()) #特孤立的点不展示"
   ]
  },
  {
   "cell_type": "code",
   "execution_count": 13,
   "metadata": {},
   "outputs": [
    {
     "data": {
      "image/png": "[encoded data removed]",
      "text/plain": [
       "<matplotlib.figure.Figure at 0x7f3f611ae490>"
      ]
     },
     "metadata": {},
     "output_type": "display_data"
    }
   ],
   "source": [
    "plt.show()"
   ]
  },
  {
   "cell_type": "markdown",
   "metadata": {},
   "source": [
    "## 其他聚类算法尝试"
   ]
  },
  {
   "cell_type": "markdown",
   "metadata": {},
   "source": [
    "AffinityPropagation与Birch对memory要求较高，本地40G不够用"
   ]
  },
  {
   "cell_type": "code",
   "execution_count": 14,
   "metadata": {},
   "outputs": [],
   "source": [
    "from sklearn.cluster import AffinityPropagation"
   ]
  },
  {
   "cell_type": "code",
   "execution_count": 15,
   "metadata": {},
   "outputs": [],
   "source": [
    "model = AffinityPropagation()"
   ]
  },
  {
   "cell_type": "code",
   "execution_count": 16,
   "metadata": {},
   "outputs": [],
   "source": [
    "aff_data = data.copy()"
   ]
  },
  {
   "cell_type": "code",
   "execution_count": 17,
   "metadata": {},
   "outputs": [
    {
     "ename": "MemoryError",
     "evalue": "",
     "output_type": "error",
     "traceback": [
      "\u001b[0;31m\u001b[0m",
      "\u001b[0;31mMemoryError\u001b[0mTraceback (most recent call last)",
      "\u001b[0;32m<ipython-input-17-9d68658df115>\u001b[0m in \u001b[0;36m<module>\u001b[0;34m()\u001b[0m\n\u001b[0;32m----> 1\u001b[0;31m \u001b[0my_pred\u001b[0m \u001b[0;34m=\u001b[0m \u001b[0mmodel\u001b[0m\u001b[0;34m.\u001b[0m\u001b[0mfit_predict\u001b[0m\u001b[0;34m(\u001b[0m\u001b[0maff_data\u001b[0m\u001b[0;34m)\u001b[0m\u001b[0;34m\u001b[0m\u001b[0m\n\u001b[0m",
      "\u001b[0;32m/usr/local/lib/python2.7/dist-packages/sklearn/base.pyc\u001b[0m in \u001b[0;36mfit_predict\u001b[0;34m(self, X, y)\u001b[0m\n\u001b[1;32m    408\u001b[0m         \u001b[0;31m# non-optimized default implementation; override when a better\u001b[0m\u001b[0;34m\u001b[0m\u001b[0;34m\u001b[0m\u001b[0m\n\u001b[1;32m    409\u001b[0m         \u001b[0;31m# method is possible for a given clustering algorithm\u001b[0m\u001b[0;34m\u001b[0m\u001b[0;34m\u001b[0m\u001b[0m\n\u001b[0;32m--> 410\u001b[0;31m         \u001b[0mself\u001b[0m\u001b[0;34m.\u001b[0m\u001b[0mfit\u001b[0m\u001b[0;34m(\u001b[0m\u001b[0mX\u001b[0m\u001b[0;34m)\u001b[0m\u001b[0;34m\u001b[0m\u001b[0m\n\u001b[0m\u001b[1;32m    411\u001b[0m         \u001b[0;32mreturn\u001b[0m \u001b[0mself\u001b[0m\u001b[0;34m.\u001b[0m\u001b[0mlabels_\u001b[0m\u001b[0;34m\u001b[0m\u001b[0m\n\u001b[1;32m    412\u001b[0m \u001b[0;34m\u001b[0m\u001b[0m\n",
      "\u001b[0;32m/usr/local/lib/python2.7/dist-packages/sklearn/cluster/affinity_propagation_.pyc\u001b[0m in \u001b[0;36mfit\u001b[0;34m(self, X, y)\u001b[0m\n\u001b[1;32m    296\u001b[0m             \u001b[0mself\u001b[0m\u001b[0;34m.\u001b[0m\u001b[0maffinity_matrix_\u001b[0m \u001b[0;34m=\u001b[0m \u001b[0mX\u001b[0m\u001b[0;34m\u001b[0m\u001b[0m\n\u001b[1;32m    297\u001b[0m         \u001b[0;32melif\u001b[0m \u001b[0mself\u001b[0m\u001b[0;34m.\u001b[0m\u001b[0maffinity\u001b[0m \u001b[0;34m==\u001b[0m \u001b[0;34m\"euclidean\"\u001b[0m\u001b[0;34m:\u001b[0m\u001b[0;34m\u001b[0m\u001b[0m\n\u001b[0;32m--> 298\u001b[0;31m             \u001b[0mself\u001b[0m\u001b[0;34m.\u001b[0m\u001b[0maffinity_matrix_\u001b[0m \u001b[0;34m=\u001b[0m \u001b[0;34m-\u001b[0m\u001b[0meuclidean_distances\u001b[0m\u001b[0;34m(\u001b[0m\u001b[0mX\u001b[0m\u001b[0;34m,\u001b[0m \u001b[0msquared\u001b[0m\u001b[0;34m=\u001b[0m\u001b[0mTrue\u001b[0m\u001b[0;34m)\u001b[0m\u001b[0;34m\u001b[0m\u001b[0m\n\u001b[0m\u001b[1;32m    299\u001b[0m         \u001b[0;32melse\u001b[0m\u001b[0;34m:\u001b[0m\u001b[0;34m\u001b[0m\u001b[0m\n\u001b[1;32m    300\u001b[0m             raise ValueError(\"Affinity must be 'precomputed' or \"\n",
      "\u001b[0;32m/usr/local/lib/python2.7/dist-packages/sklearn/metrics/pairwise.pyc\u001b[0m in \u001b[0;36meuclidean_distances\u001b[0;34m(X, Y, Y_norm_squared, squared, X_norm_squared)\u001b[0m\n\u001b[1;32m    244\u001b[0m         \u001b[0mYY\u001b[0m \u001b[0;34m=\u001b[0m \u001b[0mrow_norms\u001b[0m\u001b[0;34m(\u001b[0m\u001b[0mY\u001b[0m\u001b[0;34m,\u001b[0m \u001b[0msquared\u001b[0m\u001b[0;34m=\u001b[0m\u001b[0mTrue\u001b[0m\u001b[0;34m)\u001b[0m\u001b[0;34m[\u001b[0m\u001b[0mnp\u001b[0m\u001b[0;34m.\u001b[0m\u001b[0mnewaxis\u001b[0m\u001b[0;34m,\u001b[0m \u001b[0;34m:\u001b[0m\u001b[0;34m]\u001b[0m\u001b[0;34m\u001b[0m\u001b[0m\n\u001b[1;32m    245\u001b[0m \u001b[0;34m\u001b[0m\u001b[0m\n\u001b[0;32m--> 246\u001b[0;31m     \u001b[0mdistances\u001b[0m \u001b[0;34m=\u001b[0m \u001b[0msafe_sparse_dot\u001b[0m\u001b[0;34m(\u001b[0m\u001b[0mX\u001b[0m\u001b[0;34m,\u001b[0m \u001b[0mY\u001b[0m\u001b[0;34m.\u001b[0m\u001b[0mT\u001b[0m\u001b[0;34m,\u001b[0m \u001b[0mdense_output\u001b[0m\u001b[0;34m=\u001b[0m\u001b[0mTrue\u001b[0m\u001b[0;34m)\u001b[0m\u001b[0;34m\u001b[0m\u001b[0m\n\u001b[0m\u001b[1;32m    247\u001b[0m     \u001b[0mdistances\u001b[0m \u001b[0;34m*=\u001b[0m \u001b[0;34m-\u001b[0m\u001b[0;36m2\u001b[0m\u001b[0;34m\u001b[0m\u001b[0m\n\u001b[1;32m    248\u001b[0m     \u001b[0mdistances\u001b[0m \u001b[0;34m+=\u001b[0m \u001b[0mXX\u001b[0m\u001b[0;34m\u001b[0m\u001b[0m\n",
      "\u001b[0;32m/usr/local/lib/python2.7/dist-packages/sklearn/utils/extmath.pyc\u001b[0m in \u001b[0;36msafe_sparse_dot\u001b[0;34m(a, b, dense_output)\u001b[0m\n\u001b[1;32m    138\u001b[0m         \u001b[0;32mreturn\u001b[0m \u001b[0mret\u001b[0m\u001b[0;34m\u001b[0m\u001b[0m\n\u001b[1;32m    139\u001b[0m     \u001b[0;32melse\u001b[0m\u001b[0;34m:\u001b[0m\u001b[0;34m\u001b[0m\u001b[0m\n\u001b[0;32m--> 140\u001b[0;31m         \u001b[0;32mreturn\u001b[0m \u001b[0mnp\u001b[0m\u001b[0;34m.\u001b[0m\u001b[0mdot\u001b[0m\u001b[0;34m(\u001b[0m\u001b[0ma\u001b[0m\u001b[0;34m,\u001b[0m \u001b[0mb\u001b[0m\u001b[0;34m)\u001b[0m\u001b[0;34m\u001b[0m\u001b[0m\n\u001b[0m\u001b[1;32m    141\u001b[0m \u001b[0;34m\u001b[0m\u001b[0m\n\u001b[1;32m    142\u001b[0m \u001b[0;34m\u001b[0m\u001b[0m\n",
      "\u001b[0;31mMemoryError\u001b[0m: "
     ]
    }
   ],
   "source": [
    "y_pred = model.fit_predict(aff_data)"
   ]
  },
  {
   "cell_type": "code",
   "execution_count": null,
   "metadata": {},
   "outputs": [],
   "source": []
  }
 ],
 "metadata": {
  "kernelspec": {
   "display_name": "Python 2",
   "language": "python",
   "name": "python2"
  },
  "language_info": {
   "codemirror_mode": {
    "name": "ipython",
    "version": 2
   },
   "file_extension": ".py",
   "mimetype": "text/x-python",
   "name": "python",
   "nbconvert_exporter": "python",
   "pygments_lexer": "ipython2",
   "version": "2.7.12"
  }
 },
 "nbformat": 4,
 "nbformat_minor": 2
}
